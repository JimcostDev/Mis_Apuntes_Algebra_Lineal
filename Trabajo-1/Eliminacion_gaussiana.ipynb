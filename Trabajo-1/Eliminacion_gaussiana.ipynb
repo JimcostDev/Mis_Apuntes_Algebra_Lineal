{
 "cells": [
  {
   "cell_type": "markdown",
   "metadata": {},
   "source": [
    "<font size=6 color=\"#0098CD\">\n",
    "Trabajo: Eliminación gaussiana\n",
    "</font>"
   ]
  },
  {
   "cell_type": "markdown",
   "metadata": {},
   "source": [
    "---\n",
    "\n",
    "**Asignatura:** Álgebra Lineal\n",
    "\n",
    "**Presentado por:** *Ronaldo Jimenéz Acosta*\n",
    "\n",
    "**Fecha:** 9 - Nov - 2022\n",
    "\n",
    "--- "
   ]
  },
  {
   "cell_type": "markdown",
   "metadata": {},
   "source": [
    "### 1. Objetivos\n",
    "* Aplicar  los  conceptos  abordados  en  los  temas  1  y  2,  específicamente,  aquellos \n",
    "relacionados con solución de sistemas de ecuaciones lineales.\n",
    "\n",
    "* Utilizar el lenguaje de programación Python para realizar cálculos básicos, \n",
    "representaciones gráficas en 3D y operaciones con matrices."
   ]
  },
  {
   "cell_type": "markdown",
   "metadata": {},
   "source": [
    "### 2. Descripción de la actividad y pautas de elaboración\n",
    "A continuación, se plantean tres sistemas de ecuaciones lineales que deben \n",
    "resolverse aplicando los conceptos y procedimientos abordados en los temas 1 y 2. \n",
    "La entrega debe hacerse únicamente en formato PDF. Extensión máxima: 10 páginas."
   ]
  },
  {
   "cell_type": "markdown",
   "metadata": {},
   "source": [
    "#### Sistema de ecuaciones 1 $\\color{green}{\\text{(3 puntos)}}$\n",
    "\n",
    ">$2x - y + 3z = 16$\n",
    ">\n",
    ">$4x + 0y - 2z = -4$\n",
    ">\n",
    ">$x + 3y - z = -9$\n"
   ]
  },
  {
   "cell_type": "markdown",
   "metadata": {},
   "source": [
    "a) Traza  las  gráficas  de  las  tres  ecuaciones  en  el  mismo  sistema  de  coordenadas \n",
    "cartesianas.  ¿Qué  se  puede  afirmar  sobre  la  solución  del  sistema?  Explica  tu \n",
    "respuesta.\n",
    "\n",
    "> **R/=** En el punto $(1, -2,  4)$ X, Y, Z, respectivamente es el punto de cruce de las 3 ecuaciones, por lo tanto es la solución al sistema."
   ]
  },
  {
   "cell_type": "code",
   "execution_count": null,
   "metadata": {},
   "outputs": [],
   "source": [
    "from IPython.display import IFrame\n",
    "\n",
    "IFrame(src=\"https://www.geogebra.org/3d?lang=es\",\n",
    "       width=1080, height=600)"
   ]
  },
  {
   "cell_type": "markdown",
   "metadata": {},
   "source": [
    "![img_grafica_1](https://user-images.githubusercontent.com/53100460/199523967-06e506f1-38ce-4de3-8bbc-5df8dc5d7d6d.png)"
   ]
  },
  {
   "cell_type": "markdown",
   "metadata": {},
   "source": [
    "b) Resuelve  el  sistema  aplicando  el  método  de  Gauss.  Registra  el  procedimiento \n",
    "paso a paso y la solución."
   ]
  },
  {
   "cell_type": "code",
   "execution_count": 29,
   "metadata": {},
   "outputs": [
    {
     "name": "stdout",
     "output_type": "stream",
     "text": [
      "# 1. expresar el sistema de ecuaciones lineales como una matriz aumentada\n",
      "[[ 2 -1  3 16]\n",
      " [ 4  0 -2 -4]\n",
      " [ 1  3 -1 -9]]\n",
      "\n",
      "# 2. intercambiamos la fila 3 por la fila 1 (F3 <--> F1)\n",
      "[[ 1  3 -1 -9]\n",
      " [ 4  0 -2 -4]\n",
      " [ 2 -1  3 16]]\n",
      "\n",
      "# 3. para obtener el primer 0 hacemos: F2 - 4F1\n",
      "[  0 -12   2  32]\n",
      "simplicamos\n",
      "[ 0. -6.  1. 16.]\n",
      "\n",
      "#. primer 0 conseguido\n",
      "[[ 1  3 -1 -9]\n",
      " [ 0 -6  1 16]\n",
      " [ 2 -1  3 16]]\n",
      "\n",
      "# 3. para obtener el segundo 0 hacemos: F3 - 2F1\n",
      "[ 0 -7  5 34]\n",
      "\n",
      "#. segundo 0 conseguido\n",
      "[[ 1  3 -1 -9]\n",
      " [ 0 -6  1 16]\n",
      " [ 0 -7  5 34]]\n",
      "\n",
      "# 3. para obtener el tercer 0 hacemos: 6F3 - 7F2\n",
      "[ 0  0 23 92]\n",
      "\n",
      "#. tercer 0 conseguido\n",
      "[[ 1  3 -1 -9]\n",
      " [ 0 -6  1 16]\n",
      " [ 0  0 23 92]]\n",
      "\n"
     ]
    }
   ],
   "source": [
    "import numpy as np\n",
    "print('# 1. expresar el sistema de ecuaciones lineales como una matriz aumentada')\n",
    "A = np.array([[2,-1,3,16],[4,0,-2,-4],[1,3,-1,-9]])\n",
    "print(A)\n",
    "print()\n",
    "\n",
    "print('# 2. intercambiamos la fila 3 por la fila 1 (F3 <--> F1)')\n",
    "A = np.array([[1,3,-1,-9],[4,0,-2,-4],[2,-1,3,16]])\n",
    "print(A)\n",
    "print()\n",
    "\n",
    "print('# 3. para obtener el primer 0 hacemos: F2 - 4F1')\n",
    "F2 = A[1] - 4*A[0]\n",
    "print(F2)\n",
    "print('simplicamos')\n",
    "F2_s = F2/2\n",
    "print(F2_s)\n",
    "print()\n",
    "\n",
    "print('#. primer 0 conseguido')\n",
    "A[1] = F2_s\n",
    "print(A)\n",
    "print()\n",
    "\n",
    "print('# 3. para obtener el segundo 0 hacemos: F3 - 2F1')\n",
    "F3 = A[2] - 2*A[0]\n",
    "print(F3)\n",
    "print()\n",
    "\n",
    "print('#. segundo 0 conseguido')\n",
    "A[2] = F3\n",
    "print(A)\n",
    "print()\n",
    "\n",
    "print('# 3. para obtener el tercer 0 hacemos: 6F3 - 7F2')\n",
    "F3_2 = 6*A[2] - 7*A[1]\n",
    "print(F3_2)\n",
    "print()\n",
    "\n",
    "print('#. tercer 0 conseguido')\n",
    "A[2] = F3_2\n",
    "print(A)\n",
    "print()"
   ]
  },
  {
   "cell_type": "markdown",
   "metadata": {},
   "source": [
    "\n",
    "c) Obtén  la  solución  del  sistema  usando  **numpy.linalg.solve**.  Compara  esta \n",
    "solución con la obtenida en el literal b)."
   ]
  },
  {
   "cell_type": "code",
   "execution_count": 30,
   "metadata": {},
   "outputs": [
    {
     "name": "stdout",
     "output_type": "stream",
     "text": [
      "[ 1. -2.  4.]\n",
      "Comprobamos que A * x = b\n",
      "[16. -4. -9.]\n"
     ]
    }
   ],
   "source": [
    "import numpy as np\n",
    "# Matriz A\n",
    "A = np.array([[2, -1, 3], [4, 0, -2], [1, 3, -1]])\n",
    "# Vector b\n",
    "b = np.array([16, -4, -9])\n",
    "# Solución\n",
    "x = np.linalg.solve(A, b)\n",
    "print(x)\n",
    "print('Comprobamos que A * x = b')\n",
    "print(np.matmul(A, x))"
   ]
  },
  {
   "cell_type": "markdown",
   "metadata": {},
   "source": [
    "#### Solucion:\n",
    "\n",
    ">$\\begin{bmatrix}\n",
    " X &\\\\\n",
    " Y &\\\\\n",
    " Z \n",
    "\\end{bmatrix}$\n",
    "> $=$ \n",
    "> $\\begin{bmatrix}\n",
    " 1 &\\\\\n",
    " -2 &\\\\\n",
    " 4 \n",
    "\\end{bmatrix}$"
   ]
  }
 ],
 "metadata": {
  "kernelspec": {
   "display_name": "Python 3.10.5 64-bit",
   "language": "python",
   "name": "python3"
  },
  "language_info": {
   "codemirror_mode": {
    "name": "ipython",
    "version": 3
   },
   "file_extension": ".py",
   "mimetype": "text/x-python",
   "name": "python",
   "nbconvert_exporter": "python",
   "pygments_lexer": "ipython3",
   "version": "3.10.5"
  },
  "orig_nbformat": 4,
  "vscode": {
   "interpreter": {
    "hash": "07435c5db8cdf0eda12355611327544e1e2ed2c68f64c0e507cf2d1a5a42fd93"
   }
  }
 },
 "nbformat": 4,
 "nbformat_minor": 2
}
