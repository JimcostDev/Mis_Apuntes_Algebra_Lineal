{
 "cells": [
  {
   "cell_type": "markdown",
   "metadata": {},
   "source": [
    "<font size=6 color=\"#0098CD\">\n",
    "Trabajo: Eliminación gaussiana\n",
    "</font>"
   ]
  },
  {
   "cell_type": "markdown",
   "metadata": {},
   "source": [
    "---\n",
    "\n",
    "**Asignatura:** Álgebra Lineal\n",
    "\n",
    "**Presentado por:** *Ronaldo Jimenéz Acosta*\n",
    "\n",
    "**Fecha:** 9 - Nov - 2022\n",
    "\n",
    "--- "
   ]
  },
  {
   "cell_type": "markdown",
   "metadata": {},
   "source": [
    "### 1. Objetivos\n",
    "* Aplicar  los  conceptos  abordados  en  los  temas  1  y  2,  específicamente,  aquellos \n",
    "relacionados con solución de sistemas de ecuaciones lineales.\n",
    "\n",
    "* Utilizar el lenguaje de programación Python para realizar cálculos básicos, \n",
    "representaciones gráficas en 3D y operaciones con matrices."
   ]
  },
  {
   "cell_type": "markdown",
   "metadata": {},
   "source": [
    "### 2. Descripción de la actividad y pautas de elaboración\n",
    "A continuación, se plantean tres sistemas de ecuaciones lineales que deben \n",
    "resolverse aplicando los conceptos y procedimientos abordados en los temas 1 y 2. \n",
    "La entrega debe hacerse únicamente en formato PDF. Extensión máxima: 10 páginas."
   ]
  },
  {
   "cell_type": "markdown",
   "metadata": {},
   "source": [
    "#### Sistema de ecuaciones 1 $\\color{green}{\\text{(3 puntos)}}$\n",
    "\n",
    ">$2x - y + 3z = 16$\n",
    ">\n",
    ">$4x + 0y - 2z = -4$\n",
    ">\n",
    ">$x + 3y - z = -9$\n"
   ]
  },
  {
   "cell_type": "markdown",
   "metadata": {},
   "source": [
    "a) Traza  las  gráficas  de  las  tres  ecuaciones  en  el  mismo  sistema  de  coordenadas \n",
    "cartesianas.  ¿Qué  se  puede  afirmar  sobre  la  solución  del  sistema?  Explica  tu \n",
    "respuesta.\n"
   ]
  },
  {
   "cell_type": "code",
   "execution_count": 3,
   "metadata": {},
   "outputs": [
    {
     "data": {
      "text/html": [
       "\n",
       "        <iframe\n",
       "            width=\"1000\"\n",
       "            height=\"600\"\n",
       "            src=\"https://www.geogebra.org/3d?lang=es\"\n",
       "            frameborder=\"0\"\n",
       "            allowfullscreen\n",
       "            \n",
       "        ></iframe>\n",
       "        "
      ],
      "text/plain": [
       "<IPython.lib.display.IFrame at 0x246730cffd0>"
      ]
     },
     "execution_count": 3,
     "metadata": {},
     "output_type": "execute_result"
    }
   ],
   "source": [
    "from IPython.display import IFrame\n",
    "\n",
    "IFrame(src=\"https://www.geogebra.org/3d?lang=es\",\n",
    "       width=1080, height=600)"
   ]
  },
  {
   "cell_type": "markdown",
   "metadata": {},
   "source": [
    "b) Resuelve  el  sistema  aplicando  el  método  de  Gauss.  Registra  el  procedimiento \n",
    "paso a paso y la solución."
   ]
  },
  {
   "cell_type": "markdown",
   "metadata": {},
   "source": [
    "\n",
    "c) Obtén  la  solución  del  sistema  usando  **numpy.linalg.solve**.  Compara  esta \n",
    "solución con la obtenida en el literal b)."
   ]
  },
  {
   "cell_type": "code",
   "execution_count": 2,
   "metadata": {},
   "outputs": [
    {
     "name": "stdout",
     "output_type": "stream",
     "text": [
      "[ 1. -2.  4.]\n",
      "Comprobamos que A * x = b\n",
      "[16. -4. -9.]\n"
     ]
    }
   ],
   "source": [
    "import numpy as np\n",
    "# Matriz A\n",
    "A = np.array([[2, -1, 3], [4, 0, -2], [1, 3, -1]])\n",
    "# Vector b\n",
    "b = np.array([16, -4, -9])\n",
    "# Solución\n",
    "x = np.linalg.solve(A, b)\n",
    "print(x)\n",
    "print('Comprobamos que A * x = b')\n",
    "print(np.matmul(A, x))"
   ]
  }
 ],
 "metadata": {
  "kernelspec": {
   "display_name": "Python 3.10.5 64-bit",
   "language": "python",
   "name": "python3"
  },
  "language_info": {
   "codemirror_mode": {
    "name": "ipython",
    "version": 3
   },
   "file_extension": ".py",
   "mimetype": "text/x-python",
   "name": "python",
   "nbconvert_exporter": "python",
   "pygments_lexer": "ipython3",
   "version": "3.10.5"
  },
  "orig_nbformat": 4,
  "vscode": {
   "interpreter": {
    "hash": "07435c5db8cdf0eda12355611327544e1e2ed2c68f64c0e507cf2d1a5a42fd93"
   }
  }
 },
 "nbformat": 4,
 "nbformat_minor": 2
}
