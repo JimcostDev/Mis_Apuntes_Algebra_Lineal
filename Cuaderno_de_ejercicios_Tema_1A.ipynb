{
  "cells": [
    {
      "cell_type": "markdown",
      "metadata": {
        "id": "mIA_bLOb1wkU"
      },
      "source": [
        "<font size=6 color=\"#0098CD\">\n",
        "Álgebra Lineal\n",
        "</font>\n",
        "<p></p>\n",
        "<font size=6>\n",
        "Cuaderno de ejercicios - Tema 1A\n",
        "</font>\n"
      ]
    },
    {
      "cell_type": "markdown",
      "metadata": {
        "id": "snecxC4W134T"
      },
      "source": [
        "# 1. Conceptos básicos"
      ]
    },
    {
      "cell_type": "markdown",
      "metadata": {
        "id": "zmfPOD142KS8"
      },
      "source": [
        "## 1.1. Definición\n",
        "Una **matriz** es un **arreglo rectangular** de elementos dispuestos en **filas** y **columnas**. Las matrices se representan con letras **mayúsculas**, normalmente las primeras del abecedario, y en negrita. Por ejemplo:\n",
        "\n",
        ">$ A = \\begin{bmatrix}\n",
        "1  & 0 & 2 & -3\\\\\n",
        "-1 & 4 & 2 & 7\n",
        "\\end{bmatrix}$\n",
        "\n",
        "Utilizaremos la librería **NumPy** de Python para trabajar con matrices. Inicialmente importamos la librería y luego creamos la matriz:\n",
        "\n",
        "```python\n",
        "import numpy as np\n",
        "A = np.array([[1, 0, 2, -3], [-1, 4, 2, 7]])\n",
        "```"
      ]
    },
    {
      "cell_type": "code",
      "execution_count": 2,
      "metadata": {
        "colab": {
          "base_uri": "https://localhost:8080/"
        },
        "id": "iw_nFw1k_Mn-",
        "outputId": "04b395b9-4139-4296-dd80-1fd105e8f030"
      },
      "outputs": [
        {
          "name": "stdout",
          "output_type": "stream",
          "text": [
            " A = [[ 1  0  2 -3]\n",
            " [-1  4  2  7]]\n",
            "(2, 4)\n"
          ]
        }
      ],
      "source": [
        "import numpy as np\n",
        "A = np.array([[1, 0, 2, -3], [-1, 4, 2, 7]])\n",
        "print(f' A = {A}')\n",
        "print(A.shape)"
      ]
    },
    {
      "cell_type": "markdown",
      "metadata": {
        "id": "doX2qF4v8xLc"
      },
      "source": [
        "---\n",
        "**Ejercicio**\n",
        ">Crea la siguiente matriz:\n",
        ">\n",
        ">$ B = \\begin{bmatrix}\n",
        " 0 & -4 \\\\\n",
        " 1 &  2 \\\\\n",
        " 7 &  1\n",
        "\\end{bmatrix}$\n",
        "---"
      ]
    },
    {
      "cell_type": "code",
      "execution_count": 6,
      "metadata": {
        "colab": {
          "base_uri": "https://localhost:8080/"
        },
        "id": "qmj-1wru8xlz",
        "outputId": "702ea01e-3c06-498a-dbaf-c54e7c98c267"
      },
      "outputs": [
        {
          "name": "stdout",
          "output_type": "stream",
          "text": [
            " B = [[ 0 -4]\n",
            " [ 1  2]\n",
            " [ 7  1]]\n",
            "(3, 2)\n"
          ]
        }
      ],
      "source": [
        "\n",
        "B = np.array([[0, -4], [1,2], [7, 1]])\n",
        "print(f' B = {B}')\n",
        "print(B.shape)"
      ]
    },
    {
      "cell_type": "markdown",
      "metadata": {
        "id": "_xCQ4uDN2q6y"
      },
      "source": [
        "## 1.2. Orden de una matriz\n",
        "Decimos que una matriz es $m \\times n$ o de orden $m \\times n$ si tiene **$m$ filas** y **$n$ columnas**. \n",
        "\n",
        ">La matriz $A$ anterior es $2 \\times 4$; mientras que la matriz $B$ es $3 \\times 2$\n",
        "\n",
        "Obtengamos el orden de la siguiente matriz $C$:\n",
        "\n",
        "```python\n",
        "C = np.array([[3, 0, 5, -3, 0], [-1, 2, 2, 7, -1]])\n",
        "print(C.shape)\n",
        "```"
      ]
    },
    {
      "cell_type": "code",
      "execution_count": 10,
      "metadata": {
        "id": "0n3ytKA_Bq2T"
      },
      "outputs": [
        {
          "name": "stdout",
          "output_type": "stream",
          "text": [
            "\n",
            "filas = 2,\n",
            "columnas = 5,\n",
            "orden = (2, 5)\n",
            "\n"
          ]
        }
      ],
      "source": [
        "C = np.array([[3, 0, 5, -3, 0], [-1, 2, 2, 7, -1]])\n",
        "order = C.shape\n",
        "rows = order[0]\n",
        "columns = order[1]\n",
        "print(f\"\"\"\n",
        "filas = {rows},\n",
        "columnas = {columns},\n",
        "orden = {order}\n",
        "\"\"\")\n"
      ]
    },
    {
      "cell_type": "markdown",
      "metadata": {
        "id": "FGvO838SOmwt"
      },
      "source": [
        "---\n",
        "\n",
        "**Ejercicio**\n",
        ">Una matriz es **cuadrada** si tiene el mismo número de filas que de columnas. Crea la siguiente matriz y verifica que es $2 \\times 2$: \n",
        ">\n",
        ">$ D = \\begin{bmatrix}\n",
        " -0.7 & 0.2 \\\\\n",
        " 0.19 &  1.1 \n",
        "\\end{bmatrix}$\n",
        "---"
      ]
    },
    {
      "cell_type": "code",
      "execution_count": 5,
      "metadata": {
        "id": "kw2LIsapPMDs"
      },
      "outputs": [
        {
          "name": "stdout",
          "output_type": "stream",
          "text": [
            "(2, 2)\n"
          ]
        }
      ],
      "source": [
        "D = np.array([[-0.7, 0.2], [0.19, 1.1]])\n",
        "print(D.shape)"
      ]
    },
    {
      "cell_type": "markdown",
      "metadata": {
        "id": "4rY7O1ORB-uc"
      },
      "source": [
        "Para hacer referencia a un elemento de una matriz, usamos el número de la fila y de la columna. Por ejemplo:\n",
        "\n",
        ">Sea $A$ la siguiente matriz $3 \\times 3$:\n",
        ">\n",
        ">$ A = \\begin{bmatrix}\n",
        " 6 & -4 & 8 \\\\\n",
        " 1 &  2 & 3 \\\\\n",
        " 7 &  1 & 5\n",
        "\\end{bmatrix}$\n",
        ">\n",
        ">El elemento $(2, 3)$ de $A$ es $3$. También podemos decir que $a_{23}=3$.\n",
        "\n",
        "**En Python se indexa desde cero**. Por lo tanto, si queremos recuperar el elemento $(2, 3)$ de la matriz $A$, procedemos como sigue:\n",
        "\n",
        "```python\n",
        "A = np.array([[6, -4, 8], [1, 2, 3], [7, 1, 5]])\n",
        "print(A[1, 2])\n",
        "```"
      ]
    },
    {
      "cell_type": "code",
      "execution_count": 11,
      "metadata": {
        "id": "1TdavH62Qax8"
      },
      "outputs": [
        {
          "name": "stdout",
          "output_type": "stream",
          "text": [
            "3\n"
          ]
        }
      ],
      "source": [
        "A = np.array([[6, -4, 8], [1, 2, 3], [7, 1, 5]])\n",
        "print(A[1, 2])"
      ]
    },
    {
      "cell_type": "markdown",
      "metadata": {
        "id": "8dOn_qXeExU8"
      },
      "source": [
        "---\n",
        "\n",
        "**Ejercicio**\n",
        ">a). Crea una matriz $B$ de orden $3 \\times 3$.\n",
        ">\n",
        ">b). Comprueba el orden de la matriz.\n",
        ">\n",
        ">c). Lee el elemento $b_{13}$\n",
        ">\n",
        ">d). Reemplaza el elemento $b_{22}$ por $-1.25$\n",
        ">\n",
        ">e). Intercambia los elementos $(1, 1)$ y $(3, 3)$\n",
        ">\n",
        ">f). ¿Qué resultado se obtiene con cada una de las siguientes instrucciones?\n",
        ">\n",
        "> * print(B[1])\n",
        "> * print(B[:,1])\n",
        "> * print(B[:2])\n",
        "> * print(B[:,:2])\n",
        "---"
      ]
    },
    {
      "cell_type": "code",
      "execution_count": 22,
      "metadata": {
        "id": "rjsYVz5AGI8h"
      },
      "outputs": [
        {
          "name": "stdout",
          "output_type": "stream",
          "text": [
            "(3, 3)\n",
            "3\n",
            "[[1 2]\n",
            " [4 5]\n",
            " [7 8]]\n"
          ]
        }
      ],
      "source": [
        "E = np.array([\n",
        "    [1,2,3],\n",
        "    [4,5,6],\n",
        "    [7,8,9]])\n",
        "order = E.shape\n",
        "print(order)\n",
        "print(E[0,2])\n",
        "#E[1,1] = -1.25\n",
        "#print(E)\n",
        "#print(E[1])\n",
        "#print(E[:,1])\n",
        "#print(E[:2])\n",
        "print(E[:,:2])\n"
      ]
    },
    {
      "cell_type": "markdown",
      "metadata": {
        "id": "bzk42FBJPtgl"
      },
      "source": [
        "En general, se expresa: $A = [a_{ij}]$; es decir, $A$ es la matriz cuyo elemento en la posición $(i, j)$ es $a_{ij}$."
      ]
    },
    {
      "cell_type": "markdown",
      "metadata": {
        "id": "Nda3qtH43Qwk"
      },
      "source": [
        "## 1.3. Igualdad de matrices\n",
        "Dos matrices son **iguales** si cumplen las siguientes condiciones:\n",
        "\n",
        "a). Son del mismo orden.\n",
        "\n",
        "b). Los elementos en cada posición son iguales (dos a dos).\n",
        ">¿Las matrices $A$ y $B$ son iguales?\n",
        ">\n",
        ">$ A = \\begin{bmatrix}\n",
        " 2  & 3 \\\\\n",
        " -1 & 4 \n",
        "\\end{bmatrix}$\n",
        ">\n",
        ">$ B = \\begin{bmatrix}\n",
        " 2  & -3 \\\\\n",
        " 1 & 4 \n",
        "\\end{bmatrix}$\n",
        "\n",
        "En Python:\n",
        "```python\n",
        "A = np.array([[2, 3], [-1, 4]])\n",
        "B = np.array([[2, -3], [1, 4]])\n",
        "C = A == B\n",
        "print(C.all())\n",
        "```"
      ]
    },
    {
      "cell_type": "code",
      "execution_count": 24,
      "metadata": {
        "id": "u5c08AmjY8PU"
      },
      "outputs": [
        {
          "name": "stdout",
          "output_type": "stream",
          "text": [
            "[[ True False]\n",
            " [False  True]]\n",
            "False\n"
          ]
        }
      ],
      "source": [
        "A = np.array([[2, 3], [-1, 4]])\n",
        "B = np.array([[2, -3], [1, 4]])\n",
        "C = A == B\n",
        "print(C)\n",
        "print(C.all())"
      ]
    },
    {
      "cell_type": "markdown",
      "metadata": {
        "id": "ID4yr9YX4QQT"
      },
      "source": [
        "# 2. Operaciones fundamentales"
      ]
    },
    {
      "cell_type": "markdown",
      "metadata": {
        "id": "gTTI0qUg4h11"
      },
      "source": [
        "## 2.1. Suma\n",
        "**Practica...**\n",
        "> Si las matrices **A=(aij)** y **B=(bij)** tienen la misma dimensión, la matriz suma es:\n",
        "\n",
        "> A+B=(aij+bij).\n",
        "\n",
        "La matriz suma se obtienen sumando los elementos de las dos matrices que ocupan la misma misma posición.\n",
        "\n"
      ]
    },
    {
      "cell_type": "markdown",
      "metadata": {
        "id": "Drd7k7DkbtBi"
      },
      "source": [
        "---\n",
        "**Ejercicio**\n",
        ">Dadas las siguiente matrices $A$ y $B$, obtén $C = A + B$ en Python. Explica el resultado. \n",
        ">\n",
        ">$ A = \\begin{bmatrix}\n",
        " 2  & 3 & 4 \\\\\n",
        " -1 & 4 & 0\n",
        "\\end{bmatrix}$\n",
        ">\n",
        ">$ B = \\begin{bmatrix}\n",
        " 2  & -3 \\\\\n",
        " 1  &  4 \\\\\n",
        " 0  &  5\n",
        "\\end{bmatrix}$\n",
        "---"
      ]
    },
    {
      "cell_type": "code",
      "execution_count": 8,
      "metadata": {
        "id": "B0jOmgjscNaq"
      },
      "outputs": [
        {
          "ename": "ValueError",
          "evalue": "operands could not be broadcast together with shapes (2,3) (3,2) ",
          "output_type": "error",
          "traceback": [
            "\u001b[1;31m---------------------------------------------------------------------------\u001b[0m",
            "\u001b[1;31mValueError\u001b[0m                                Traceback (most recent call last)",
            "\u001b[1;32mc:\\Users\\JIMCOSTDEV\\Desktop\\Cursos\\Unir\\I\\Algebra Lineal\\Git\\Cuaderno_de_ejercicios_Tema_1A.ipynb Cell 21\u001b[0m in \u001b[0;36m<cell line: 4>\u001b[1;34m()\u001b[0m\n\u001b[0;32m      <a href='vscode-notebook-cell:/c%3A/Users/JIMCOSTDEV/Desktop/Cursos/Unir/I/Algebra%20Lineal/Git/Cuaderno_de_ejercicios_Tema_1A.ipynb#X26sZmlsZQ%3D%3D?line=0'>1</a>\u001b[0m A \u001b[39m=\u001b[39m np\u001b[39m.\u001b[39marray([[\u001b[39m2\u001b[39m,\u001b[39m3\u001b[39m,\u001b[39m4\u001b[39m],[\u001b[39m-\u001b[39m\u001b[39m1\u001b[39m,\u001b[39m4\u001b[39m,\u001b[39m0\u001b[39m]])\n\u001b[0;32m      <a href='vscode-notebook-cell:/c%3A/Users/JIMCOSTDEV/Desktop/Cursos/Unir/I/Algebra%20Lineal/Git/Cuaderno_de_ejercicios_Tema_1A.ipynb#X26sZmlsZQ%3D%3D?line=1'>2</a>\u001b[0m B \u001b[39m=\u001b[39m np\u001b[39m.\u001b[39marray([[\u001b[39m2\u001b[39m,\u001b[39m-\u001b[39m\u001b[39m3\u001b[39m],[\u001b[39m1\u001b[39m,\u001b[39m4\u001b[39m],[\u001b[39m0\u001b[39m,\u001b[39m5\u001b[39m]])\n\u001b[1;32m----> <a href='vscode-notebook-cell:/c%3A/Users/JIMCOSTDEV/Desktop/Cursos/Unir/I/Algebra%20Lineal/Git/Cuaderno_de_ejercicios_Tema_1A.ipynb#X26sZmlsZQ%3D%3D?line=3'>4</a>\u001b[0m C \u001b[39m=\u001b[39m A \u001b[39m+\u001b[39;49m B\n",
            "\u001b[1;31mValueError\u001b[0m: operands could not be broadcast together with shapes (2,3) (3,2) "
          ]
        }
      ],
      "source": [
        "A = np.array([[2,3,4],[-1,4,0]])\n",
        "B = np.array([[2,-3],[1,4],[0,5]])\n",
        "\n",
        "C = A + B\n",
        "print(C)"
      ]
    },
    {
      "cell_type": "markdown",
      "metadata": {
        "id": "YnRhtE7Lcw3Z"
      },
      "source": [
        "---\n",
        "**Ejercicio**\n",
        ">Dadas las siguiente matrices $A$ y $B$, obtén $C = A - B$, primero en forma manual y luego en Python.\n",
        ">\n",
        ">$ A = \\begin{bmatrix}\n",
        " 2  & 3 & 4 \\\\\n",
        " -1 & 4 & 0\n",
        "\\end{bmatrix}$\n",
        ">\n",
        ">$ B = \\begin{bmatrix}\n",
        " 2   & -3 & -4 \\\\\n",
        " -1  &  4 & 2\n",
        "\\end{bmatrix}$\n",
        "---"
      ]
    },
    {
      "cell_type": "code",
      "execution_count": 4,
      "metadata": {
        "id": "my1gv1Y2dCx6"
      },
      "outputs": [
        {
          "name": "stdout",
          "output_type": "stream",
          "text": [
            "[[  4  -9 -16]\n",
            " [  1  16   0]]\n"
          ]
        }
      ],
      "source": [
        "A = np.array([[2,3,4],[-1,4,0]])\n",
        "B = np.array([[2,-3,-4],[-1,4,2]])\n",
        "\n",
        "C = A - B\n",
        "print(C)"
      ]
    },
    {
      "cell_type": "markdown",
      "metadata": {
        "id": "TqkFgmOt4lK1"
      },
      "source": [
        "## 2.2. Producto"
      ]
    },
    {
      "cell_type": "markdown",
      "metadata": {
        "id": "678xNZQo4r4s"
      },
      "source": [
        "### 2.2.1. Producto por un escalar\n",
        "**Practica...**\n",
        ">Dada una matriz **A=(aij)** y un número real **k**, se define la multiplicación de un número real por una matriz a la matriz del mismo orden que A, en la que cada elemento está multiplicado por k.\n",
        "\n",
        ">**k · A=(k aij)**"
      ]
    },
    {
      "cell_type": "markdown",
      "metadata": {
        "id": "kZ-jwsptdRQq"
      },
      "source": [
        "---\n",
        "**Ejercicio**\n",
        ">Dada la siguiente matriz $A$ calcula $B = \\frac{1}{2} A$. Comprueba en forma manual algunos elementos de la matriz $B$. \n",
        ">\n",
        ">$ A = \\begin{bmatrix}\n",
        " 20  & 13 & 7.25 \\\\\n",
        " -10 & 4 & 0\n",
        "\\end{bmatrix}$\n",
        ">\n",
        "---"
      ]
    },
    {
      "cell_type": "code",
      "execution_count": 5,
      "metadata": {
        "id": "QW95MbghdTBZ"
      },
      "outputs": [
        {
          "name": "stdout",
          "output_type": "stream",
          "text": [
            "[[10.     6.5    3.625]\n",
            " [-5.     2.     0.   ]]\n"
          ]
        }
      ],
      "source": [
        "A = np.array([[20,13,7.25],\n",
        "              [-10,4,0]])\n",
        "\n",
        "k = 0.5\n",
        "\n",
        "B = k*A\n",
        "print(B)\n"
      ]
    },
    {
      "cell_type": "markdown",
      "metadata": {
        "id": "KXrp1zxg4wdU"
      },
      "source": [
        "### 2.2.2. Producto matricial\n",
        "**Practica...**\n",
        ">El producto de matrices requiere de una condición previa muy restrictiva: si A y B son dos matrices, podrán multiplicarse sólo en el caso de que el número de columnas de la primera matriz coincida con el número de filas de la segunda. Se dice en este caso que A y B son multiplicables.\n",
        "\n",
        ">El resultado es una matriz que tiene tantas filas como la primera y tantas columnas como la segunda."
      ]
    },
    {
      "cell_type": "markdown",
      "metadata": {
        "id": "SMKxw8DteY1y"
      },
      "source": [
        "---\n",
        "**Ejercicio**\n",
        ">Dadas las siguiente matrices $A$ y $B$, obtén $C = AB$ en Python. Explica el resultado. \n",
        ">\n",
        ">$ A = \\begin{bmatrix}\n",
        " 2  & 3 & 4 \\\\\n",
        " -1 & 4 & 0\n",
        "\\end{bmatrix}$\n",
        ">\n",
        ">$ B = \\begin{bmatrix}\n",
        " 2  & -3 & 3 \\\\\n",
        " 1  &  4 & 0\n",
        "\\end{bmatrix}$\n",
        "---"
      ]
    },
    {
      "cell_type": "code",
      "execution_count": 6,
      "metadata": {
        "id": "4EZQZx8EjDCK"
      },
      "outputs": [
        {
          "name": "stdout",
          "output_type": "stream",
          "text": [
            "[[ 4 -9 12]\n",
            " [-1 16  0]]\n"
          ]
        }
      ],
      "source": [
        "A = np.array([[2,3,4],[-1,4,0]])\n",
        "B = np.array([[2,-3,3],[1,4,0]])\n",
        "\n",
        "C = A*B\n",
        "print(C)"
      ]
    },
    {
      "cell_type": "markdown",
      "metadata": {
        "id": "qi6MB8NijDhS"
      },
      "source": [
        "---\n",
        "**Ejercicio**\n",
        ">Dadas las siguiente matrices $A$ y $B$, obtén $C = AB$, primero en forma manual, luego en Python.\n",
        ">\n",
        ">$ A = \\begin{bmatrix}\n",
        " 2  & 3 & 4 \\\\\n",
        " -1 & 4 & 0\n",
        "\\end{bmatrix}$\n",
        ">\n",
        ">$ B = \\begin{bmatrix}\n",
        " 2  & -3 \\\\\n",
        " 1  &  4 \\\\\n",
        " 0  &  5\n",
        "\\end{bmatrix}$\n",
        "---"
      ]
    },
    {
      "cell_type": "code",
      "execution_count": 7,
      "metadata": {
        "id": "rqrzig3NjD3r"
      },
      "outputs": [
        {
          "ename": "ValueError",
          "evalue": "operands could not be broadcast together with shapes (2,3) (3,2) ",
          "output_type": "error",
          "traceback": [
            "\u001b[1;31m---------------------------------------------------------------------------\u001b[0m",
            "\u001b[1;31mValueError\u001b[0m                                Traceback (most recent call last)",
            "\u001b[1;32mc:\\Users\\JIMCOSTDEV\\Desktop\\Cursos\\Unir\\I\\Algebra Lineal\\Git\\Cuaderno_de_ejercicios_Tema_1A.ipynb Cell 32\u001b[0m in \u001b[0;36m<cell line: 4>\u001b[1;34m()\u001b[0m\n\u001b[0;32m      <a href='vscode-notebook-cell:/c%3A/Users/JIMCOSTDEV/Desktop/Cursos/Unir/I/Algebra%20Lineal/Git/Cuaderno_de_ejercicios_Tema_1A.ipynb#X43sZmlsZQ%3D%3D?line=0'>1</a>\u001b[0m A \u001b[39m=\u001b[39m np\u001b[39m.\u001b[39marray([[\u001b[39m2\u001b[39m,\u001b[39m3\u001b[39m,\u001b[39m4\u001b[39m],[\u001b[39m-\u001b[39m\u001b[39m1\u001b[39m,\u001b[39m4\u001b[39m,\u001b[39m0\u001b[39m]])\n\u001b[0;32m      <a href='vscode-notebook-cell:/c%3A/Users/JIMCOSTDEV/Desktop/Cursos/Unir/I/Algebra%20Lineal/Git/Cuaderno_de_ejercicios_Tema_1A.ipynb#X43sZmlsZQ%3D%3D?line=1'>2</a>\u001b[0m B \u001b[39m=\u001b[39m np\u001b[39m.\u001b[39marray([[\u001b[39m2\u001b[39m,\u001b[39m-\u001b[39m\u001b[39m3\u001b[39m],[\u001b[39m1\u001b[39m,\u001b[39m4\u001b[39m,],[\u001b[39m0\u001b[39m,\u001b[39m5\u001b[39m]])\n\u001b[1;32m----> <a href='vscode-notebook-cell:/c%3A/Users/JIMCOSTDEV/Desktop/Cursos/Unir/I/Algebra%20Lineal/Git/Cuaderno_de_ejercicios_Tema_1A.ipynb#X43sZmlsZQ%3D%3D?line=3'>4</a>\u001b[0m C \u001b[39m=\u001b[39m A\u001b[39m*\u001b[39;49mB\n\u001b[0;32m      <a href='vscode-notebook-cell:/c%3A/Users/JIMCOSTDEV/Desktop/Cursos/Unir/I/Algebra%20Lineal/Git/Cuaderno_de_ejercicios_Tema_1A.ipynb#X43sZmlsZQ%3D%3D?line=4'>5</a>\u001b[0m \u001b[39mprint\u001b[39m(C)\n",
            "\u001b[1;31mValueError\u001b[0m: operands could not be broadcast together with shapes (2,3) (3,2) "
          ]
        }
      ],
      "source": [
        "A = np.array([[2,3,4],[-1,4,0]])\n",
        "B = np.array([[2,-3],[1,4,],[0,5]])\n",
        "\n",
        "C = A*B\n",
        "print(C)"
      ]
    },
    {
      "cell_type": "markdown",
      "metadata": {
        "id": "Sm1Vm-2L41dk"
      },
      "source": [
        "# 3. Ejercicios complementarios\n",
        "\n",
        "a). Explica la diferencia entre las siguientes instrucciones. Asume que $A$ y $B$ son matrices cuadradas de orden $n$:\n",
        ">```python\n",
        "print(A*B)\n",
        "print(np.matmul(A, B))\n",
        "```\n",
        "\n",
        "b). ¿El producto de matrices es conmutativo? Es decir, ¿$AB = BA$? Explica tu respuesta.\n",
        "\n",
        "c). Escribe un programa para la multiplicación de una matriz $A$ de orden $m \\times p$ y una matriz $B$ de orden $p \\times n$. \n",
        "\n",
        "d). Consulta diferentes algoritmos para la multiplicación de matrices e identifica el más eficiente."
      ]
    }
  ],
  "metadata": {
    "colab": {
      "collapsed_sections": [],
      "provenance": []
    },
    "kernelspec": {
      "display_name": "Python 3.10.5 64-bit",
      "language": "python",
      "name": "python3"
    },
    "language_info": {
      "codemirror_mode": {
        "name": "ipython",
        "version": 3
      },
      "file_extension": ".py",
      "mimetype": "text/x-python",
      "name": "python",
      "nbconvert_exporter": "python",
      "pygments_lexer": "ipython3",
      "version": "3.10.5"
    },
    "vscode": {
      "interpreter": {
        "hash": "07435c5db8cdf0eda12355611327544e1e2ed2c68f64c0e507cf2d1a5a42fd93"
      }
    }
  },
  "nbformat": 4,
  "nbformat_minor": 0
}
