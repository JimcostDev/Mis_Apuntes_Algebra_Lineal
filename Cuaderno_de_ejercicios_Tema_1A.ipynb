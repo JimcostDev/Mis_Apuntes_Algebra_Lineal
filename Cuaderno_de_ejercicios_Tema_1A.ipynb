{
  "nbformat": 4,
  "nbformat_minor": 0,
  "metadata": {
    "colab": {
      "provenance": [],
      "collapsed_sections": []
    },
    "kernelspec": {
      "name": "python3",
      "display_name": "Python 3"
    },
    "language_info": {
      "name": "python"
    }
  },
  "cells": [
    {
      "cell_type": "markdown",
      "source": [
        "<font size=6 color=\"#0098CD\">\n",
        "Álgebra Lineal\n",
        "</font>\n",
        "<p></p>\n",
        "<font size=6>\n",
        "Cuaderno de ejercicios - Tema 1A\n",
        "</font>\n"
      ],
      "metadata": {
        "id": "mIA_bLOb1wkU"
      }
    },
    {
      "cell_type": "markdown",
      "source": [
        "# 1. Conceptos básicos"
      ],
      "metadata": {
        "id": "snecxC4W134T"
      }
    },
    {
      "cell_type": "markdown",
      "source": [
        "## 1.1. Definición\n",
        "Una **matriz** es un **arreglo rectangular** de elementos dispuestos en **filas** y **columnas**. Las matrices se representan con letras **mayúsculas**, normalmente las primeras del abecedario, y en negrita. Por ejemplo:\n",
        "\n",
        ">$ A = \\begin{bmatrix}\n",
        "1  & 0 & 2 & -3\\\\\n",
        "-1 & 4 & 2 & 7\n",
        "\\end{bmatrix}$\n",
        "\n",
        "Utilizaremos la librería **NumPy** de Python para trabajar con matrices. Inicialmente importamos la librería y luego creamos la matriz:\n",
        "\n",
        "```python\n",
        "import numpy as np\n",
        "A = np.array([[1, 0, 2, -3], [-1, 4, 2, 7]])\n",
        "```"
      ],
      "metadata": {
        "id": "zmfPOD142KS8"
      }
    },
    {
      "cell_type": "code",
      "source": [
        "import numpy as np\n",
        "A = np.array([[1, 0, 2, -3], [-1, 4, 2, 7]])\n",
        "print(A)"
      ],
      "metadata": {
        "id": "iw_nFw1k_Mn-",
        "colab": {
          "base_uri": "https://localhost:8080/"
        },
        "outputId": "04b395b9-4139-4296-dd80-1fd105e8f030"
      },
      "execution_count": 4,
      "outputs": [
        {
          "output_type": "stream",
          "name": "stdout",
          "text": [
            "[[ 1  0  2 -3]\n",
            " [-1  4  2  7]]\n"
          ]
        }
      ]
    },
    {
      "cell_type": "markdown",
      "source": [
        "---\n",
        "**Ejercicio**\n",
        ">Crea la siguiente matriz:\n",
        ">\n",
        ">$ B = \\begin{bmatrix}\n",
        " 0 & -4 \\\\\n",
        " 1 &  2 \\\\\n",
        " 7 &  1\n",
        "\\end{bmatrix}$\n",
        "---"
      ],
      "metadata": {
        "id": "doX2qF4v8xLc"
      }
    },
    {
      "cell_type": "code",
      "source": [
        "\n",
        "B = np.array([[0, -4], [1,2], [7, 1]])\n",
        "print(B)"
      ],
      "metadata": {
        "id": "qmj-1wru8xlz",
        "colab": {
          "base_uri": "https://localhost:8080/"
        },
        "outputId": "702ea01e-3c06-498a-dbaf-c54e7c98c267"
      },
      "execution_count": 3,
      "outputs": [
        {
          "output_type": "stream",
          "name": "stdout",
          "text": [
            "[[ 0 -4]\n",
            " [ 1  2]\n",
            " [ 7  1]]\n"
          ]
        }
      ]
    },
    {
      "cell_type": "markdown",
      "source": [
        "## 1.2. Orden de una matriz\n",
        "Decimos que una matriz es $m \\times n$ o de orden $m \\times n$ si tiene **$m$ filas** y **$n$ columnas**. \n",
        "\n",
        ">La matriz $A$ anterior es $2 \\times 4$; mientras que la matriz $B$ es $3 \\times 2$\n",
        "\n",
        "Obtengamos el orden de la siguiente matriz $C$:\n",
        "\n",
        "```python\n",
        "C = np.array([[3, 0, 5, -3, 0], [-1, 2, 2, 7, -1]])\n",
        "print(C.shape)\n",
        "```"
      ],
      "metadata": {
        "id": "_xCQ4uDN2q6y"
      }
    },
    {
      "cell_type": "code",
      "source": [],
      "metadata": {
        "id": "0n3ytKA_Bq2T"
      },
      "execution_count": null,
      "outputs": []
    },
    {
      "cell_type": "markdown",
      "source": [
        "---\n",
        "\n",
        "**Ejercicio**\n",
        ">Una matriz es **cuadrada** si tiene el mismo número de filas que de columnas. Crea la siguiente matriz y verifica que es $2 \\times 2$: \n",
        ">\n",
        ">$ D = \\begin{bmatrix}\n",
        " -0.7 & 0.2 \\\\\n",
        " 0.19 &  1.1 \n",
        "\\end{bmatrix}$\n",
        "---"
      ],
      "metadata": {
        "id": "FGvO838SOmwt"
      }
    },
    {
      "cell_type": "code",
      "source": [],
      "metadata": {
        "id": "kw2LIsapPMDs"
      },
      "execution_count": null,
      "outputs": []
    },
    {
      "cell_type": "markdown",
      "source": [
        "Para hacer referencia a un elemento de una matriz, usamos el número de la fila y de la columna. Por ejemplo:\n",
        "\n",
        ">Sea $A$ la siguiente matriz $3 \\times 3$:\n",
        ">\n",
        ">$ A = \\begin{bmatrix}\n",
        " 6 & -4 & 8 \\\\\n",
        " 1 &  2 & 3 \\\\\n",
        " 7 &  1 & 5\n",
        "\\end{bmatrix}$\n",
        ">\n",
        ">El elemento $(2, 3)$ de $A$ es $3$. También podemos decir que $a_{23}=3$.\n",
        "\n",
        "**En Python se indexa desde cero**. Por lo tanto, si queremos recuperar el elemento $(2, 3)$ de la matriz $A$, procedemos como sigue:\n",
        "\n",
        "```python\n",
        "A = np.array([[6, -4, 8], [1, 2, 3], [7, 1, 5]])\n",
        "print(A[1, 2])\n",
        "```"
      ],
      "metadata": {
        "id": "4rY7O1ORB-uc"
      }
    },
    {
      "cell_type": "code",
      "source": [],
      "metadata": {
        "id": "1TdavH62Qax8"
      },
      "execution_count": null,
      "outputs": []
    },
    {
      "cell_type": "markdown",
      "source": [
        "---\n",
        "\n",
        "**Ejercicio**\n",
        ">a). Crea una matriz $B$ de orden $3 \\times 3$.\n",
        ">\n",
        ">b). Comprueba el orden de la matriz.\n",
        ">\n",
        ">c). Lee el elemento $b_{13}$\n",
        ">\n",
        ">d). Reemplaza el elemento $b_{22}$ por $-1.25$\n",
        ">\n",
        ">e). Intercambia los elementos $(1, 1)$ y $(3, 3)$\n",
        ">\n",
        ">f). ¿Qué resultado se obtiene con cada una de las siguientes instrucciones?\n",
        ">\n",
        "> * print(B[1])\n",
        "> * print(B[:,1])\n",
        "> * print(B[:2])\n",
        "> * print(B[:,:2])\n",
        "---"
      ],
      "metadata": {
        "id": "8dOn_qXeExU8"
      }
    },
    {
      "cell_type": "code",
      "source": [],
      "metadata": {
        "id": "rjsYVz5AGI8h"
      },
      "execution_count": null,
      "outputs": []
    },
    {
      "cell_type": "markdown",
      "source": [
        "En general, se expresa: $A = [a_{ij}]$; es decir, $A$ es la matriz cuyo elemento en la posición $(i, j)$ es $a_{ij}$."
      ],
      "metadata": {
        "id": "bzk42FBJPtgl"
      }
    },
    {
      "cell_type": "markdown",
      "source": [
        "## 1.3. Igualdad de matrices\n",
        "Dos matrices son **iguales** si cumplen las siguientes condiciones:\n",
        "\n",
        "a). Son del mismo orden.\n",
        "\n",
        "b). Los elementos en cada posición son iguales (dos a dos).\n",
        ">¿Las matrices $A$ y $B$ son iguales?\n",
        ">\n",
        ">$ A = \\begin{bmatrix}\n",
        " 2  & 3 \\\\\n",
        " -1 & 4 \n",
        "\\end{bmatrix}$\n",
        ">\n",
        ">$ B = \\begin{bmatrix}\n",
        " 2  & -3 \\\\\n",
        " 1 & 4 \n",
        "\\end{bmatrix}$\n",
        "\n",
        "En Python:\n",
        "```python\n",
        "A = np.array([[2, 3], [-1, 4]])\n",
        "B = np.array([[2, -3], [1, 4]])\n",
        "C = A == B\n",
        "print(C.all())\n",
        "```"
      ],
      "metadata": {
        "id": "Nda3qtH43Qwk"
      }
    },
    {
      "cell_type": "code",
      "source": [],
      "metadata": {
        "id": "u5c08AmjY8PU"
      },
      "execution_count": null,
      "outputs": []
    },
    {
      "cell_type": "markdown",
      "source": [
        "# 2. Operaciones fundamentales"
      ],
      "metadata": {
        "id": "ID4yr9YX4QQT"
      }
    },
    {
      "cell_type": "markdown",
      "source": [
        "## 2.1. Suma\n",
        "**Practica...**\n",
        ">Escribe en esta celda la definición de suma de matrices"
      ],
      "metadata": {
        "id": "gTTI0qUg4h11"
      }
    },
    {
      "cell_type": "markdown",
      "source": [
        "---\n",
        "**Ejercicio**\n",
        ">Dadas las siguiente matrices $A$ y $B$, obtén $C = A + B$ en Python. Explica el resultado. \n",
        ">\n",
        ">$ A = \\begin{bmatrix}\n",
        " 2  & 3 & 4 \\\\\n",
        " -1 & 4 & 0\n",
        "\\end{bmatrix}$\n",
        ">\n",
        ">$ B = \\begin{bmatrix}\n",
        " 2  & -3 \\\\\n",
        " 1  &  4 \\\\\n",
        " 0  &  5\n",
        "\\end{bmatrix}$\n",
        "---"
      ],
      "metadata": {
        "id": "Drd7k7DkbtBi"
      }
    },
    {
      "cell_type": "code",
      "source": [],
      "metadata": {
        "id": "B0jOmgjscNaq"
      },
      "execution_count": null,
      "outputs": []
    },
    {
      "cell_type": "markdown",
      "source": [
        "---\n",
        "**Ejercicio**\n",
        ">Dadas las siguiente matrices $A$ y $B$, obtén $C = A - B$, primero en forma manual y luego en Python.\n",
        ">\n",
        ">$ A = \\begin{bmatrix}\n",
        " 2  & 3 & 4 \\\\\n",
        " -1 & 4 & 0\n",
        "\\end{bmatrix}$\n",
        ">\n",
        ">$ B = \\begin{bmatrix}\n",
        " 2   & -3 & -4 \\\\\n",
        " -1  &  4 & 2\n",
        "\\end{bmatrix}$\n",
        "---"
      ],
      "metadata": {
        "id": "YnRhtE7Lcw3Z"
      }
    },
    {
      "cell_type": "code",
      "source": [],
      "metadata": {
        "id": "my1gv1Y2dCx6"
      },
      "execution_count": null,
      "outputs": []
    },
    {
      "cell_type": "markdown",
      "source": [
        "## 2.2. Producto"
      ],
      "metadata": {
        "id": "TqkFgmOt4lK1"
      }
    },
    {
      "cell_type": "markdown",
      "source": [
        "### 2.2.1. Producto por un escalar\n",
        "**Practica...**\n",
        ">Escribe en esta celda la definición de producto de un escalar por una matriz"
      ],
      "metadata": {
        "id": "678xNZQo4r4s"
      }
    },
    {
      "cell_type": "markdown",
      "source": [
        "---\n",
        "**Ejercicio**\n",
        ">Dada la siguiente matriz $A$ calcula $B = \\frac{1}{2} A$. Comprueba en forma manual algunos elementos de la matriz $B$. \n",
        ">\n",
        ">$ A = \\begin{bmatrix}\n",
        " 20  & 13 & 7.25 \\\\\n",
        " -10 & 4 & 0\n",
        "\\end{bmatrix}$\n",
        ">\n",
        "---"
      ],
      "metadata": {
        "id": "kZ-jwsptdRQq"
      }
    },
    {
      "cell_type": "code",
      "source": [],
      "metadata": {
        "id": "QW95MbghdTBZ"
      },
      "execution_count": null,
      "outputs": []
    },
    {
      "cell_type": "markdown",
      "source": [
        "### 2.2.2. Producto matricial\n",
        "**Practica...**\n",
        ">Escribe en esta celda la definición de producto de matrices"
      ],
      "metadata": {
        "id": "KXrp1zxg4wdU"
      }
    },
    {
      "cell_type": "markdown",
      "source": [
        "---\n",
        "**Ejercicio**\n",
        ">Dadas las siguiente matrices $A$ y $B$, obtén $C = AB$ en Python. Explica el resultado. \n",
        ">\n",
        ">$ A = \\begin{bmatrix}\n",
        " 2  & 3 & 4 \\\\\n",
        " -1 & 4 & 0\n",
        "\\end{bmatrix}$\n",
        ">\n",
        ">$ B = \\begin{bmatrix}\n",
        " 2  & -3 & 3 \\\\\n",
        " 1  &  4 & 0\n",
        "\\end{bmatrix}$\n",
        "---"
      ],
      "metadata": {
        "id": "SMKxw8DteY1y"
      }
    },
    {
      "cell_type": "code",
      "source": [],
      "metadata": {
        "id": "4EZQZx8EjDCK"
      },
      "execution_count": null,
      "outputs": []
    },
    {
      "cell_type": "markdown",
      "source": [
        "---\n",
        "**Ejercicio**\n",
        ">Dadas las siguiente matrices $A$ y $B$, obtén $C = AB$, primero en forma manual, luego en Python.\n",
        ">\n",
        ">$ A = \\begin{bmatrix}\n",
        " 2  & 3 & 4 \\\\\n",
        " -1 & 4 & 0\n",
        "\\end{bmatrix}$\n",
        ">\n",
        ">$ B = \\begin{bmatrix}\n",
        " 2  & -3 \\\\\n",
        " 1  &  4 \\\\\n",
        " 0  &  5\n",
        "\\end{bmatrix}$\n",
        "---"
      ],
      "metadata": {
        "id": "qi6MB8NijDhS"
      }
    },
    {
      "cell_type": "code",
      "source": [],
      "metadata": {
        "id": "rqrzig3NjD3r"
      },
      "execution_count": null,
      "outputs": []
    },
    {
      "cell_type": "markdown",
      "source": [
        "# 3. Ejercicios complementarios\n",
        "\n",
        "a). Explica la diferencia entre las siguientes instrucciones. Asume que $A$ y $B$ son matrices cuadradas de orden $n$:\n",
        ">```python\n",
        "print(A*B)\n",
        "print(np.matmul(A, B))\n",
        "```\n",
        "\n",
        "b). ¿El producto de matrices es conmutativo? Es decir, ¿$AB = BA$? Explica tu respuesta.\n",
        "\n",
        "c). Escribe un programa para la multiplicación de una matriz $A$ de orden $m \\times p$ y una matriz $B$ de orden $p \\times n$. \n",
        "\n",
        "d). Consulta diferentes algoritmos para la multiplicación de matrices e identifica el más eficiente."
      ],
      "metadata": {
        "id": "Sm1Vm-2L41dk"
      }
    }
  ]
}